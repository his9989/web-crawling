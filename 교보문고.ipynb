{
 "cells": [
  {
   "cell_type": "code",
   "execution_count": null,
   "metadata": {
    "collapsed": true
   },
   "outputs": [],
   "source": [
    "# import\n",
    "from selenium import webdriver\n",
    "from bs4 import BeautifulSoup as bs\n",
    "from urllib.parse import quote\n",
    "from datetime import datetime\n",
    "import pandas as pd\n",
    "import time\n",
    "import random\n",
    "import os\n",
    "import sqlite3"
   ]
  },
  {
   "cell_type": "markdown",
   "metadata": {},
   "source": [
    "웹 사이트에서 F12 버튼 누르고 html 뒤져보면서 찾는거임"
   ]
  },
  {
   "cell_type": "code",
   "execution_count": null,
   "metadata": {
    "collapsed": true
   },
   "outputs": [],
   "source": [
    "# 주피터 파일이랑 같은 폴더에 chromedriver 넣어야합니다.\n",
    "driver = webdriver.Chrome('chromedriver.exe')\n",
    "soup = bs(driver.page_source, 'html.parser')\n",
    "driver.implicitly_wait(3)\n",
    "\n",
    "# swarm login url 접속\n",
    "driver.get('http://www.kyobobook.co.kr/index.laf?NaPm=ct%3Djtjpp56y%7Cci%3Dcheckout%7Ctr%3Dds%7Ctrx%3D%7Chk%3D3f231ef9182146ded4b5f6de483ff495f4be09df&OV_REFFER=https://search.naver.com/search.naver?sm=top_hty&fbm=1&ie=utf8&query=%EA%B5%90%EB%B3%B4%EB%AC%B8%EA%B3%A0')"
   ]
  },
  {
   "cell_type": "code",
   "execution_count": null,
   "metadata": {
    "collapsed": true
   },
   "outputs": [],
   "source": [
    "driver.get('http://www.kyobobook.co.kr/bestseller/bestSeller.laf?mallGb=KOR&range=0&kind=0&orderClick=s11')"
   ]
  },
  {
   "cell_type": "code",
   "execution_count": null,
   "metadata": {},
   "outputs": [],
   "source": [
    "soup = bs(driver.page_source, 'html.parser')\n",
    "# 페이지당 20개 책\n",
    "for i in range(20):\n",
    "    try:\n",
    "        print('title', end=\" : \")\n",
    "        data = soup.select('li > div.detail > div.title > a')[i].get_text()\n",
    "        print(data)\n",
    "        print('author', end=\" : \")\n",
    "        data = soup.select('li > div.detail > div.author')[i].get_text()\n",
    "        print(data)\n",
    "    except:\n",
    "        print('끝났어용')\n",
    "        break;\n",
    "    print('----------------')\n"
   ]
  },
  {
   "cell_type": "code",
   "execution_count": null,
   "metadata": {},
   "outputs": [],
   "source": [
    "driver.find_elements_by_css_selector(\"div.list_paging > a\")[0].click()"
   ]
  },
  {
   "cell_type": "code",
   "execution_count": null,
   "metadata": {
    "collapsed": true
   },
   "outputs": [],
   "source": []
  },
  {
   "cell_type": "code",
   "execution_count": null,
   "metadata": {
    "collapsed": true
   },
   "outputs": [],
   "source": []
  },
  {
   "cell_type": "code",
   "execution_count": null,
   "metadata": {
    "collapsed": true
   },
   "outputs": [],
   "source": []
  },
  {
   "cell_type": "code",
   "execution_count": null,
   "metadata": {
    "collapsed": true
   },
   "outputs": [],
   "source": []
  },
  {
   "cell_type": "code",
   "execution_count": null,
   "metadata": {
    "collapsed": true
   },
   "outputs": [],
   "source": [
    "driver.get('http://www.kyobobook.co.kr/index.laf?NaPm=ct%3Djtjpp56y%7Cci%3Dcheckout%7Ctr%3Dds%7Ctrx%3D%7Chk%3D3f231ef9182146ded4b5f6de483ff495f4be09df&OV_REFFER=https://search.naver.com/search.naver?sm=top_hty&fbm=1&ie=utf8&query=%EA%B5%90%EB%B3%B4%EB%AC%B8%EA%B3%A0')"
   ]
  },
  {
   "cell_type": "code",
   "execution_count": null,
   "metadata": {
    "collapsed": true
   },
   "outputs": [],
   "source": [
    "# 검색텍스트박스에 정보 입력\n",
    "driver.find_element_by_name('searchKeyword').send_keys(\"크롤링\")\n",
    "\n",
    "#검색 버튼 클릭\n",
    "driver.find_elements_by_css_selector(\"input.btn_search\")[0].click()"
   ]
  },
  {
   "cell_type": "code",
   "execution_count": null,
   "metadata": {},
   "outputs": [],
   "source": [
    "soup = bs(driver.page_source, 'html.parser')\n",
    "# 페이지당 20개 책\n",
    "for i in range(20):\n",
    "    try:\n",
    "        print('title', end=\" : \")\n",
    "        data = soup.select('tr > td.detail > div.title')[i].get_text()\n",
    "        print(data)\n",
    "        print('author', end=\" : \")\n",
    "        data = soup.select('tr > td.detail > div.author')[i].get_text()\n",
    "        print(data)\n",
    "    except:\n",
    "        print('끝났어용')\n",
    "        break;\n",
    "    print('----------------')\n",
    "driver.find_elements_by_css_selector(\"a.btn_next\")[0].click()"
   ]
  },
  {
   "cell_type": "code",
   "execution_count": null,
   "metadata": {
    "collapsed": true
   },
   "outputs": [],
   "source": []
  }
 ],
 "metadata": {
  "kernelspec": {
   "display_name": "Python 3",
   "language": "python",
   "name": "python3"
  },
  "language_info": {
   "codemirror_mode": {
    "name": "ipython",
    "version": 3
   },
   "file_extension": ".py",
   "mimetype": "text/x-python",
   "name": "python",
   "nbconvert_exporter": "python",
   "pygments_lexer": "ipython3",
   "version": "3.6.1"
  }
 },
 "nbformat": 4,
 "nbformat_minor": 2
}
