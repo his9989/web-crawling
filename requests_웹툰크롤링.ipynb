{
 "cells": [
  {
   "cell_type": "markdown",
   "metadata": {},
   "source": [
    "# 마술사크롤링"
   ]
  },
  {
   "cell_type": "code",
   "execution_count": 1,
   "metadata": {
    "collapsed": true
   },
   "outputs": [],
   "source": [
    "# requests 패키지 로드\n",
    "import requests\n",
    "import os"
   ]
  },
  {
   "cell_type": "code",
   "execution_count": null,
   "metadata": {
    "collapsed": true
   },
   "outputs": [],
   "source": []
  },
  {
   "cell_type": "code",
   "execution_count": 2,
   "metadata": {},
   "outputs": [
    {
     "name": "stdout",
     "output_type": "stream",
     "text": [
      "writing to 20180124122345_dd8572ee07bfc94ab3f59e2a94156856_IMAG01_1.jpg (79752 bytes)\n",
      "writing to 20180124122345_dd8572ee07bfc94ab3f59e2a94156856_IMAG01_2.jpg (56221 bytes)\n",
      "writing to 20180124122345_dd8572ee07bfc94ab3f59e2a94156856_IMAG01_3.jpg (88750 bytes)\n",
      "writing to 20180124122345_dd8572ee07bfc94ab3f59e2a94156856_IMAG01_4.jpg (95543 bytes)\n",
      "writing to 20180124122345_dd8572ee07bfc94ab3f59e2a94156856_IMAG01_5.jpg (94688 bytes)\n",
      "writing to 20180124122345_dd8572ee07bfc94ab3f59e2a94156856_IMAG01_6.jpg (102580 bytes)\n",
      "writing to 20180124122345_dd8572ee07bfc94ab3f59e2a94156856_IMAG01_7.jpg (101983 bytes)\n",
      "writing to 20180124122345_dd8572ee07bfc94ab3f59e2a94156856_IMAG01_8.jpg (139225 bytes)\n",
      "writing to 20180124122345_dd8572ee07bfc94ab3f59e2a94156856_IMAG01_9.jpg (154563 bytes)\n",
      "writing to 20180124122345_dd8572ee07bfc94ab3f59e2a94156856_IMAG01_10.jpg (121374 bytes)\n",
      "writing to 20180124122345_dd8572ee07bfc94ab3f59e2a94156856_IMAG01_11.jpg (122773 bytes)\n",
      "writing to 20180124122345_dd8572ee07bfc94ab3f59e2a94156856_IMAG01_12.jpg (137202 bytes)\n",
      "writing to 20180124122345_dd8572ee07bfc94ab3f59e2a94156856_IMAG01_13.jpg (83580 bytes)\n",
      "writing to 20180124122345_dd8572ee07bfc94ab3f59e2a94156856_IMAG01_14.jpg (131941 bytes)\n",
      "writing to 20180124122345_dd8572ee07bfc94ab3f59e2a94156856_IMAG01_15.jpg (135118 bytes)\n",
      "writing to 20180124122345_dd8572ee07bfc94ab3f59e2a94156856_IMAG01_16.jpg (186359 bytes)\n",
      "writing to 20180124122345_dd8572ee07bfc94ab3f59e2a94156856_IMAG01_17.jpg (141685 bytes)\n",
      "writing to 20180124122345_dd8572ee07bfc94ab3f59e2a94156856_IMAG01_18.jpg (140301 bytes)\n",
      "writing to 20180124122345_dd8572ee07bfc94ab3f59e2a94156856_IMAG01_19.jpg (119874 bytes)\n",
      "writing to 20180124122345_dd8572ee07bfc94ab3f59e2a94156856_IMAG01_20.jpg (154970 bytes)\n",
      "writing to 20180124122345_dd8572ee07bfc94ab3f59e2a94156856_IMAG01_21.jpg (132672 bytes)\n",
      "writing to 20180124122345_dd8572ee07bfc94ab3f59e2a94156856_IMAG01_22.jpg (125534 bytes)\n",
      "writing to 20180124122345_dd8572ee07bfc94ab3f59e2a94156856_IMAG01_23.jpg (117864 bytes)\n",
      "writing to 20180124122345_dd8572ee07bfc94ab3f59e2a94156856_IMAG01_24.jpg (162921 bytes)\n",
      "writing to 20180124122345_dd8572ee07bfc94ab3f59e2a94156856_IMAG01_25.jpg (118209 bytes)\n",
      "writing to 20180124122345_dd8572ee07bfc94ab3f59e2a94156856_IMAG01_26.jpg (107015 bytes)\n",
      "writing to 20180124122345_dd8572ee07bfc94ab3f59e2a94156856_IMAG01_27.jpg (126152 bytes)\n",
      "writing to 20180124122345_dd8572ee07bfc94ab3f59e2a94156856_IMAG01_28.jpg (173058 bytes)\n",
      "writing to 20180124122345_dd8572ee07bfc94ab3f59e2a94156856_IMAG01_29.jpg (105924 bytes)\n",
      "writing to 20180124122345_dd8572ee07bfc94ab3f59e2a94156856_IMAG01_30.jpg (59223 bytes)\n",
      "writing to 20180124122345_dd8572ee07bfc94ab3f59e2a94156856_IMAG01_31.jpg (117393 bytes)\n",
      "writing to 20180124122345_dd8572ee07bfc94ab3f59e2a94156856_IMAG01_32.jpg (137156 bytes)\n",
      "writing to 20180124122345_dd8572ee07bfc94ab3f59e2a94156856_IMAG01_33.jpg (108728 bytes)\n",
      "writing to 20180124122345_dd8572ee07bfc94ab3f59e2a94156856_IMAG01_34.jpg (129476 bytes)\n",
      "writing to 20180124122345_dd8572ee07bfc94ab3f59e2a94156856_IMAG01_35.jpg (124437 bytes)\n",
      "writing to 20180124122345_dd8572ee07bfc94ab3f59e2a94156856_IMAG01_36.jpg (144613 bytes)\n",
      "writing to 20180124122345_dd8572ee07bfc94ab3f59e2a94156856_IMAG01_37.jpg (135457 bytes)\n",
      "writing to 20180124122345_dd8572ee07bfc94ab3f59e2a94156856_IMAG01_38.jpg (129519 bytes)\n",
      "writing to 20180124122345_dd8572ee07bfc94ab3f59e2a94156856_IMAG01_39.jpg (97183 bytes)\n",
      "writing to 20180124122345_dd8572ee07bfc94ab3f59e2a94156856_IMAG01_40.jpg (128230 bytes)\n",
      "writing to 20180124122345_dd8572ee07bfc94ab3f59e2a94156856_IMAG01_41.jpg (148000 bytes)\n",
      "writing to 20180124122345_dd8572ee07bfc94ab3f59e2a94156856_IMAG01_42.jpg (177853 bytes)\n",
      "writing to 20180124122345_dd8572ee07bfc94ab3f59e2a94156856_IMAG01_43.jpg (153408 bytes)\n",
      "writing to 20180124122345_dd8572ee07bfc94ab3f59e2a94156856_IMAG01_44.jpg (194214 bytes)\n",
      "writing to 20180124122345_dd8572ee07bfc94ab3f59e2a94156856_IMAG01_45.jpg (128473 bytes)\n",
      "writing to 20180124122345_dd8572ee07bfc94ab3f59e2a94156856_IMAG01_46.jpg (107260 bytes)\n",
      "writing to 20180124122345_dd8572ee07bfc94ab3f59e2a94156856_IMAG01_47.jpg (83760 bytes)\n",
      "writing to 20180124122345_dd8572ee07bfc94ab3f59e2a94156856_IMAG01_48.jpg (95314 bytes)\n",
      "writing to 20180124122345_dd8572ee07bfc94ab3f59e2a94156856_IMAG01_49.jpg (277 bytes)\n"
     ]
    }
   ],
   "source": [
    "image_urls =[]\n",
    "tmp_urls = []\n",
    "\n",
    "for i in range(1,50):\n",
    "    image_urls.append(\"http://imgcomic.naver.net/webtoon/24965/528/20180124122345_dd8572ee07bfc94ab3f59e2a94156856_IMAG01_{}.jpg\"\n",
    "                      .format(i))\n",
    "    \n",
    "for image_url in image_urls:\n",
    "    headers = {\n",
    "        'Referer' : \"http://comic.naver.com/webtoon/list.nhn?titleId=24965&weekday=thu\"}\n",
    "#    response = requests.get(image_url)\n",
    "\n",
    "    response = requests.get(image_url,headers=headers)\n",
    "    \n",
    "    image_data = response.content \n",
    "    #.content Raw data, byte 타입 가져오기 / .text : Raw Data에 대해 서버 응답의 content-type 인코딩으로 디코딩을을 시도한 유니코드 문자열\n",
    "    filename = os.path.basename(image_url)\n",
    "    with open(filename, 'wb') as f:\n",
    "        print('writing to {} ({} bytes)'.format(filename, len(image_data)))\n",
    "        f.write(image_data)"
   ]
  },
  {
   "cell_type": "code",
   "execution_count": null,
   "metadata": {
    "collapsed": true
   },
   "outputs": [],
   "source": []
  },
  {
   "cell_type": "markdown",
   "metadata": {},
   "source": [
    "# 네이버 웹툰"
   ]
  },
  {
   "cell_type": "code",
   "execution_count": null,
   "metadata": {
    "collapsed": true
   },
   "outputs": [],
   "source": [
    "import os\n",
    "import requests\n",
    "# URL 소스 : http://comic.naver.com/webtoon/detail.nhn?titleId=119874&no=1015&weekday=tue\n",
    "# - 덴마. 3-12화 1. 다이크(12)\n",
    "\n",
    "image_urls = [\n",
    " 'http://imgcomic.naver.net/webtoon/119874/1015/20170528204207_6e9df8e618b97520233bbb35e7d4eaaf_IMAG01_1.jpg',\n",
    " 'http://imgcomic.naver.net/webtoon/119874/1015/20170528204207_6e9df8e618b97520233bbb35e7d4eaaf_IMAG01_2.jpg',\n",
    " 'http://imgcomic.naver.net/webtoon/119874/1015/2017052820ㅈ4207_6e9df8e618b97520233bbb35e7d4eaaf_IMAG01_3.jpg',\n",
    "]\n",
    "\n",
    "for image_url in image_urls:\n",
    "\"\"\"    headers = {\n",
    "        'Referer' : \"http://comic.naver.com/webtoon/detail.nhn?titleId=119874&no=1015&weekday=tue\"\n",
    "    }\n",
    "\"\"\"\n",
    "    response = requests.get(image_url)\n",
    "#    response = requests.get(image_url,headers=headers)\n",
    "    image_data = response.content \n",
    "    #.content Raw data, byte 타입 가져오기 / .text : Raw Data에 대해 서버 응답의 content-type 인코딩으로 디코딩을을 시도한 유니코드 문자열\n",
    "    filename = os.path.basename(image_url)\n",
    "    with open(filename, 'wb') as f:\n",
    "        print('writing to {} ({} bytes)'.format(filename, len(image_data)))\n",
    "        f.write(image_data)"
   ]
  },
  {
   "cell_type": "code",
   "execution_count": null,
   "metadata": {
    "collapsed": true
   },
   "outputs": [],
   "source": [
    "image_urls =[]\n",
    "day_urls=[]\n",
    "\n",
    "for i in range(1,100):\n",
    "    if \n",
    "    image_urls.append(\"http://imgcomic.naver.net/webtoon/24965/526/20180110120735_4aaffbed6afd7563f1e770710f24907c_IMAG01_{}.jpg\"\n",
    "                      .format(i))\n",
    "    \n",
    "for image_url in image_urls:\n",
    "    headers = {\n",
    "        'Referer' : \"http://comic.naver.com/webtoon/list.nhn?titleId=20853&weekday=tue\"}\n",
    "#    response = requests.get(image_url)\n",
    "\n",
    "    response = requests.get(image_url,headers=headers)\n",
    "    \n",
    "    image_data = response.content \n",
    "    #.content Raw data, byte 타입 가져오기 / .text : Raw Data에 대해 서버 응답의 content-type 인코딩으로 디코딩을을 시도한 유니코드 문자열\n",
    "    filename = os.path.basename(image_url)\n",
    "    with open(filename, 'wb') as f:\n",
    "        print('writing to {} ({} bytes)'.format(filename, len(image_data)))\n",
    "        f.write(image_data)"
   ]
  }
 ],
 "metadata": {
  "kernelspec": {
   "display_name": "Python 3",
   "language": "python",
   "name": "python3"
  },
  "language_info": {
   "codemirror_mode": {
    "name": "ipython",
    "version": 3
   },
   "file_extension": ".py",
   "mimetype": "text/x-python",
   "name": "python",
   "nbconvert_exporter": "python",
   "pygments_lexer": "ipython3",
   "version": "3.6.1"
  }
 },
 "nbformat": 4,
 "nbformat_minor": 2
}
