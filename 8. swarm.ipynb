{
 "cells": [
  {
   "cell_type": "code",
   "execution_count": null,
   "metadata": {
    "collapsed": true
   },
   "outputs": [],
   "source": [
    "# import\n",
    "from selenium import webdriver\n",
    "from bs4 import BeautifulSoup as bs\n",
    "from urllib.parse import quote\n",
    "from datetime import datetime\n",
    "import pandas as pd\n",
    "import time\n",
    "import random\n",
    "import os\n",
    "\n",
    "# 주피터 파일이랑 같은 폴더에 chromedriver 넣어야합니다.\n",
    "driver = webdriver.Chrome('chromedriver.exe')\n",
    "soup = bs(driver.page_source, 'html.parser')\n",
    "driver.implicitly_wait(3)\n",
    "\n",
    "# 이렇게 입력할 수 도 있고, 텍스트파일로 만들어둬서 입출력 자동화해도되구~\n",
    "swarm_ID=input(\"ID를 입력해주세요 : \")\n",
    "swarm_PW=input(\"PW를 입력해주세요 : \")\n",
    "\n",
    "# swarm login url 접속\n",
    "driver.get('https://ko.swarmapp.com/login')\n",
    "\n",
    "# ID, PW 텍스트박스에 정보 입력\n",
    "driver.find_element_by_name('emailOrPhone').send_keys(swarm_ID)\n",
    "driver.find_element_by_name('password').send_keys(swarm_PW)\n",
    "\n",
    "#로그인 버튼 클릭\n",
    "driver.find_elements_by_css_selector(\"p.loginOrSignup > input\")[0].click()"
   ]
  },
  {
   "cell_type": "code",
   "execution_count": null,
   "metadata": {
    "collapsed": true
   },
   "outputs": [],
   "source": [
    "# 경로 목록으로 들어가는 작업.\n",
    "# 이거 안하면 엉뚱한거 뽑힘\n",
    "driver.find_elements_by_css_selector(\"div.user-arrow > img\")[0].click()\n",
    "driver.find_elements_by_css_selector(\"li > a.userHistoryLink\")[0].click()"
   ]
  },
  {
   "cell_type": "code",
   "execution_count": null,
   "metadata": {
    "collapsed": true
   },
   "outputs": [],
   "source": [
    "from selenium.webdriver.common.keys import Keys\n",
    "element=driver.find_element_by_tag_name('html')\n",
    "now_len = 0\n",
    "\n",
    "while 1:\n",
    "    # 50개씩만 보이고, 스크롤 내려가면 추가적으로 보이는 구조\n",
    "    # 스크롤을 끝까지 내려서 모든 데이터가 보여야해서 만든 코드\n",
    "    # 근데 이부분이 살짝 엉킬수도있음..\n",
    "    # 250 좀 조정하면서 해보고\n",
    "    # 끝까지 안내려갔는데 그냥 finish되면 그냥 손으로 스크롤 내리셈\n",
    "    for j in range(250):\n",
    "        element.send_keys(Keys.ARROW_DOWN)    \n",
    "    #time.sleep(3)\n",
    "    locate_datas = driver.find_elements_by_css_selector('div.activity')\n",
    "    if now_len == len(locate_datas):\n",
    "        print('finish')\n",
    "        break\n",
    "    now_len = len(locate_datas)\n",
    "    print('now_len : ' + str(now_len))"
   ]
  },
  {
   "cell_type": "code",
   "execution_count": null,
   "metadata": {
    "collapsed": true
   },
   "outputs": [],
   "source": [
    "soup = bs(driver.page_source, 'html.parser')\n",
    "# n일전을 계산하기 위한, 코드 수행 순간 날짜\n",
    "now = datetime.now()\n",
    "print(str(now.year)+\"년 \"+str(now.month)+\"월 \"+str(now.day)+\"일\")\n",
    "\n",
    "# 실질적인 수집부\n",
    "for j in range(now_len):\n",
    "    print(str(j+1)+\"..\", end=\" : \")\n",
    "    print(soup.select('span.activity-checkinInfo-venue > a')[j].get_text(), end=\", \")\n",
    "    print(soup.select('p > span.global')[j].get_text(), end=\", \")\n",
    "    print(soup.select('span.timestamp.autoupdate.separateLink')[j].get_text(), end=\", \")    \n",
    "    print(\"\")\n",
    "print('finish..')"
   ]
  }
 ],
 "metadata": {
  "kernelspec": {
   "display_name": "Python 3",
   "language": "python",
   "name": "python3"
  },
  "language_info": {
   "codemirror_mode": {
    "name": "ipython",
    "version": 3
   },
   "file_extension": ".py",
   "mimetype": "text/x-python",
   "name": "python",
   "nbconvert_exporter": "python",
   "pygments_lexer": "ipython3",
   "version": "3.6.1"
  }
 },
 "nbformat": 4,
 "nbformat_minor": 2
}
