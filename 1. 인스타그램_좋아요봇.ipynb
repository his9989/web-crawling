{
 "cells": [
  {
   "cell_type": "code",
   "execution_count": null,
   "metadata": {},
   "outputs": [],
   "source": [
    "# import 및 접속/로그인\n",
    "\n",
    "from selenium import webdriver\n",
    "from bs4 import BeautifulSoup as bs\n",
    "from urllib.parse import quote\n",
    "import pandas as pd\n",
    "import time\n",
    "import random\n",
    "import os\n",
    "\n",
    "# 주피터 파일이랑 같은 폴더에 chromedriver 넣어야합니다.\n",
    "driver = webdriver.Chrome('chromedriver.exe')\n",
    "soup = bs(driver.page_source, 'html.parser')\n",
    "driver.implicitly_wait(3)\n",
    "\n",
    "#driver.get('https://www.instagram.com/accounts/login/')\n",
    "\n",
    "print(\"구글 드라이버를 최대화면으로 키우고, 로그인 해주세요!\")\n",
    "\n",
    "insta_ID=input(\"ID를 입력해주세요 : \")\n",
    "insta_PW=input(\"PW를 입력해주세요 : \")\n",
    "\n",
    "driver.get('https://www.instagram.com/accounts/login/')\n",
    "\n",
    "driver.find_element_by_name('username').send_keys(insta_ID)\n",
    "driver.find_element_by_name('password').send_keys(insta_PW)\n",
    "\n",
    "#driver.find_element_by_css_selector('button').click()"
   ]
  },
  {
   "cell_type": "markdown",
   "metadata": {},
   "source": [
    "## 인스타그램 측에서 코드를 주기적으로 바꿔서 현재는 이 코드 그대로 사용할 수 없습니다.\n",
    "## F12 누르고 분석, 수정해야 사용할 수 있습니다."
   ]
  },
  {
   "cell_type": "markdown",
   "metadata": {},
   "source": [
    "### -------------------------------------------------------------------------------------------------------------------"
   ]
  },
  {
   "cell_type": "markdown",
   "metadata": {},
   "source": [
    "## 주의사항\n",
    "### 1. 열려진 크롬드라이버는 최대화면을 유지해주세요.\n",
    "### 2. 프로그램이 실행되는 동안 크롬 드라이브는 건들지 말아주세요."
   ]
  },
  {
   "cell_type": "markdown",
   "metadata": {},
   "source": [
    "### -------------------------------------------------------------------------------------------------------------------"
   ]
  },
  {
   "cell_type": "markdown",
   "metadata": {},
   "source": [
    "## 참고사항\n",
    "\n",
    "### 1. 실행할 때는 [Ctrl + Enter]을 눌러주세요.\n",
    "\n",
    "### 2. 프로그램이 부적절하게 멈추는 등, reset을 원하는 경우 상단의 탭에서 다음과 같이 행동해주십시오.\n",
    "### [kernel - restart & clear ouput]\n",
    "\n",
    "### 3. 잘못된 실행으로 프로그램을 멈추고 싶은 경우, 다음과 같이 행동해주십시오.\n",
    "### [kernel - restart]"
   ]
  },
  {
   "cell_type": "markdown",
   "metadata": {},
   "source": [
    "### -------------------------------------------------------------------------------------------------------------------"
   ]
  },
  {
   "cell_type": "markdown",
   "metadata": {
    "collapsed": true
   },
   "source": [
    "## 3가지 기능이 있습니다.\n",
    "\n",
    "### 1. 타임라인에서 순차적으로 좋아요\n",
    "\n",
    "### 2. 입력한 해쉬태그를 검색하여 해당 게시물 좋아요\n",
    "\n",
    "### 3. 본인의 게시물에 좋아요한 사람들에게 역방문 & 좋아요"
   ]
  },
  {
   "cell_type": "markdown",
   "metadata": {},
   "source": [
    "### -------------------------------------------------------------------------------------------------------------------"
   ]
  },
  {
   "cell_type": "code",
   "execution_count": null,
   "metadata": {
    "scrolled": true
   },
   "outputs": [],
   "source": [
    "### 1. 타임라인에서 순차적으로 좋아요\n",
    "## driver.get('https://www.instagram.com')\n",
    "from selenium.webdriver.common.keys import Keys\n",
    "\n",
    "how_many_post=int(input(\"타임라인 안의 몇 개의 게시물을 좋아요하시겠습니까? : \"))\n",
    "print(\"타임라인 좋아요 작업을 시작합니다.\")\n",
    "print(\"-------------------------------------------------------------------------\")\n",
    "element=driver.find_element_by_tag_name('html')\n",
    "\n",
    "stop = 0\n",
    "\n",
    "for i in range(how_many_post):     \n",
    "    try:\n",
    "        driver.find_elements_by_css_selector('span.glyphsSpriteHeart__outline__24__grey_9')[0].click() # 하트 버튼 클릭(닫힌건 자동 스킵함)\n",
    "        print(\"%d.. like it\" %(i+1)) \n",
    "        time.sleep(1.2 + random.random() * 1.2)\n",
    "    except:\n",
    "        print(\"%d.. find already like it\" %(stop))\n",
    "        stop+=1\n",
    "        if stop!=5 :\n",
    "            for t in range(30):\n",
    "                element.send_keys(Keys.ARROW_DOWN)\n",
    "        else :\n",
    "            break\n",
    "print(\"타임라인 좋아요 작업을 종료합니다.\")\n",
    "\n",
    "## button.coreSpriteHeartOpen>span"
   ]
  },
  {
   "cell_type": "markdown",
   "metadata": {},
   "source": [
    "---"
   ]
  },
  {
   "cell_type": "code",
   "execution_count": null,
   "metadata": {},
   "outputs": [],
   "source": [
    "## 2. 입력한 해쉬태그를 검색하여 해당 게시물 좋아요\n",
    "\n",
    "how_many_hash_tag = int(input(\"해쉬태그는 몇 개 찾을 건가요? : \"))\n",
    "hash_tagss=[]\n",
    "for i in range(how_many_hash_tag):\n",
    "    key_word=input(\"%d번째 해쉬태그를 입력해주세요 : \" %(i+1))\n",
    "    hash_tagss+=[key_word]\n",
    "    \n",
    "how_many_people = int(input(\"각 해쉬태그 당 몇 개의 게시물에 좋아요하시겠습니까? : \"))\n",
    "print('해쉬태그 검색 및 좋아요 작업을 시작합니다.')\n",
    "print(\"-------------------------------------------------------------------------\")\n",
    "for hash_tag in hash_tagss:\n",
    "    print('\"' + hash_tag + '\"' + \" 좋아요 작업을 시작합니다\")\n",
    "    driver.get(\"https://www.instagram.com/explore/tags/\" + quote(hash_tag))\n",
    "    time.sleep(1.2 + random.random() * 1.2)\n",
    "    \n",
    "    driver.find_elements_by_css_selector(\"div._9AhH0\")[0].click()\n",
    "    \n",
    "    for i in range(how_many_people):\n",
    "        already_likes = driver.find_elements_by_css_selector('span.fr66n > span')\n",
    "        print(already_likes)\n",
    "        already_like = [i.get_attribute('class') for i in already_likes ]\n",
    "        time.sleep(1.2 + random.random() * 1.2)\n",
    "        if already_like[0]=='glyphsSpriteHeart__outline__24__grey_9 u-__7':\n",
    "            time.sleep(1.2 + random.random() * 1.2)\n",
    "            print(\"%d.. like it\" %(i+1))\n",
    "            driver.find_element_by_css_selector('button').click()            \n",
    "            driver.find_elements_by_css_selector(\"a.HBoOv.coreSpriteRightPaginationArrow\")[0].click()\n",
    "            \n",
    "        else:            \n",
    "            print(\"%d.. already like it\" %(i+1))\n",
    "            driver.find_elements_by_css_selector(\"a.HBoOv.coreSpriteRightPaginationArrow\")[0].click()\n",
    "            time.sleep(1.2 + random.random() * 1.2)\n",
    "        \n",
    "    print(hash_tag + \" 좋아요 작업을 종료합니다\")\n",
    "    print(\"-------------------------------------------------------------------------\")\n",
    "print(\"해쉬태그 좋아요 작업을 종료합니다.\")"
   ]
  },
  {
   "cell_type": "markdown",
   "metadata": {},
   "source": [
    "### 기능2는 크롤링 하던 중, 불러올수 없다는 문제 발생.\n",
    "### 아마 인터넷 연결의 문제라고 판단\n",
    "### 처음에 스크롤을 내려서 사진을 모두 불러온 뒤 크롤링을 수행하면 문제 없을 것으로 판단.\n",
    "### 인스타그램에 적발되지 않고 스크롤을 내리기만 하면 문제 해결 예상"
   ]
  },
  {
   "cell_type": "code",
   "execution_count": null,
   "metadata": {
    "collapsed": true
   },
   "outputs": [],
   "source": [
    "## 3. 본인의 게시물에 좋아요한 사람들에게 역방문 & 좋아요\n",
    "from selenium.webdriver.common.keys import Keys\n",
    "\n",
    "driver.get('https://www.instagram.com')\n",
    "\n",
    "insta_names = driver.find_elements_by_css_selector('div._8hjc5 > a')\n",
    "insta_name = [i.get_attribute('href') for i in insta_names ]\n",
    "driver.get(insta_name[0])\n",
    "how_many_post = int(input(\"당신의 게시물 중 몇 개의 게시물에 대해 좋아요 반사 할까요? : \"))\n",
    "how_many_people = int(input(\"하나의 게시물 당 몇 명에게 방문하시겠습니까? : \"))\n",
    "how_many_photo = int(input(\"방문한 대상의 포스트 중 몇 개에게 좋아요하시겠습니까? : \"))\n",
    "driver.find_elements_by_css_selector(\"div._si7dy\")[0].click()\n",
    "all_link=[]\n",
    "friend_link=[]\n",
    "for i in range(how_many_post):\n",
    "    time.sleep(0.8 + random.random() * 1.2)\n",
    "    print(\"-------------------------------------------------------------------------\")\n",
    "    print(\"%d번째 게시물 좋아요 목록 저장 시작!\" %(i+1))\n",
    "    \n",
    "    driver.find_elements_by_css_selector(\"a._nzn1h\")[0].click()\n",
    "    driver.find_elements_by_css_selector(\"div._9mmn5\")[0].click()\n",
    "    element=driver.find_element_by_tag_name('html')\n",
    "    for t in range(150):\n",
    "        element.send_keys(Keys.ARROW_DOWN)\n",
    "        \n",
    "    for j in range(how_many_people):\n",
    "        friend_links = driver.find_elements_by_css_selector('div._2nunc > a')\n",
    "        friend_link = [i.get_attribute('href') for i in friend_links ]\n",
    "        print(\"%d번째 좋아요 목록 저장 완료!\" %(j+1) + friend_link[j])\n",
    "        \n",
    "    all_link+=friend_link\n",
    "    print(\"%d번째 게시물 좋아요 목록 저장 완료!\" %(i+1))\n",
    "    driver.find_elements_by_css_selector(\"a._3a693.coreSpriteRightPaginationArrow\")[0].click()\n",
    "print(\"-------------------------------------------------------------------------\")\n",
    "print(\"%d개의 게시물에 좋아요 반사를 시작하겠습니다..\" %how_many_post)\n",
    "print(\" \")\n",
    "    \n",
    "for k in range(how_many_people*how_many_post):\n",
    "    driver.get(all_link[k])\n",
    "    time.sleep(0.8 + random.random() * 1.2)\n",
    "    driver.find_elements_by_css_selector(\"div._si7dy\")[0].click()\n",
    "\n",
    "    print(all_link[k] + \"님에 대한 좋아요 반사를 시작하겠습니다.\")\n",
    "\n",
    "    soup = bs(driver.page_source, 'html.parser')\n",
    "    posts = int(soup.select('span._t98z6 span._fd86t')[0].get_text())\n",
    "    print(posts)\n",
    "\n",
    "    if posts<how_many_photo:\n",
    "        for i in range(posts):\n",
    "            already_likes = driver.find_elements_by_css_selector('a._eszkz._l9yih > span')\n",
    "            already_like = [i.get_attribute('class') for i in already_likes ]\n",
    "\n",
    "            if already_like[0]=='_8scx2 coreSpriteHeartOpen ':\n",
    "                time.sleep(0.8 + random.random() * 1.2)\n",
    "                print(\"%d.. like it\" %(i+1))\n",
    "                driver.find_elements_by_css_selector('span._8scx2.coreSpriteHeartOpen')[0].click()\n",
    "                driver.find_elements_by_css_selector(\"a._3a693.coreSpriteRightPaginationArrow\")[0].click()\n",
    "\n",
    "            elif (i+1)==posts:\n",
    "                time.sleep(0.8 + random.random() * 1.2)\n",
    "                print(\"%d.. already like it\" %(i+1))\n",
    "\n",
    "                \n",
    "            else:            \n",
    "                time.sleep(0.8 + random.random() * 1.2)\n",
    "                print(\"%d.. already like it\" %(i+1))\n",
    "                driver.find_elements_by_css_selector(\"a._3a693.coreSpriteRightPaginationArrow\")[0].click()\n",
    "\n",
    "    else:\n",
    "        for i in range(how_many_photo):\n",
    "            already_likes = driver.find_elements_by_css_selector('a._eszkz._l9yih > span')\n",
    "            already_like = [i.get_attribute('class') for i in already_likes ]\n",
    "\n",
    "            if already_like[0]=='_8scx2 coreSpriteHeartOpen ':\n",
    "                time.sleep(0.8 + random.random() * 1.2)\n",
    "                print(\"%d.. like it\" %(i+1))\n",
    "                driver.find_elements_by_css_selector('span._8scx2.coreSpriteHeartOpen')[0].click()\n",
    "                driver.find_elements_by_css_selector(\"a._3a693.coreSpriteRightPaginationArrow\")[0].click()\n",
    "                time.sleep(1.2 + random.random() * 1.2)\n",
    "\n",
    "            else:            \n",
    "                print(\"%d.. already like it\" %(i+1))\n",
    "                driver.find_elements_by_css_selector(\"a._3a693.coreSpriteRightPaginationArrow\")[0].click()\n",
    "                time.sleep(0.8 + random.random() * 1.2)\n",
    "        \n",
    "    print(all_link[k] + \"님에 대한 좋아요 반사를 완료하였습니다.\")\n",
    "    print(\"-------------------------------------------------------------------------\")\n",
    "\n",
    "print(\"좋아요반사 작업을 완료하였습니다.\")"
   ]
  },
  {
   "cell_type": "markdown",
   "metadata": {},
   "source": [
    "### 팔로워에게만 게시물을 공개하는 경우에 대한 기능 구현은 아직 하지 않았습니다."
   ]
  },
  {
   "cell_type": "code",
   "execution_count": null,
   "metadata": {
    "collapsed": true
   },
   "outputs": [],
   "source": []
  },
  {
   "cell_type": "code",
   "execution_count": null,
   "metadata": {
    "collapsed": true
   },
   "outputs": [],
   "source": []
  },
  {
   "cell_type": "markdown",
   "metadata": {},
   "source": [
    "## 특정 해시태그에 접근해서 선팔맞팔 댓글달기"
   ]
  },
  {
   "cell_type": "code",
   "execution_count": null,
   "metadata": {},
   "outputs": [],
   "source": [
    "## 4. 특정 해시태그에 접근해서 선팔맞팔 댓글달기\n",
    "from selenium.webdriver.common.keys import Keys\n",
    "import random\n",
    "import time\n",
    "soup = bs(driver.page_source, 'html.parser')\n",
    "\n",
    "def is_num(num):\n",
    "    if num==\"1\" or num==\"2\" or num==\"3\" or num==\"4\" or num==\"5\" or num==\"6\" or num==\"7\" or num==\"8\" or num==\"9\" or num==\"0\":\n",
    "        return 1\n",
    "    else :\n",
    "        return 0\n",
    "    \n",
    "basic_url = \"https://www.instagram.com/\"\n",
    "            \n",
    "#how_many_hash_tag = int(input(\"해쉬태그는 몇 개 찾을 건가요? : \"))\n",
    "how_many_hash_tag = 1\n",
    "hash_tagss=[]\n",
    "for i in range(how_many_hash_tag):\n",
    "    #key_word=input(\"%d번째 해쉬태그를 입력해주세요 : \" %(i+1))\n",
    "    key_word = \"먹스타그램\"\n",
    "    hash_tagss+=[key_word]\n",
    "    \n",
    "#how_many_people = int(input(\"각 해쉬태그 당 몇 개의 게시물에 선팔하시겠습니까? : \"))\n",
    "how_many_people = 50\n",
    "#loop_comment = input(\"반복할 댓글을 적어주십시오 : \")\n",
    "loop_comment = \"안녕하세여! 선팔하구갈게여!! 맞팔부탁드려여>_< 헤헿\"\n",
    "print('해쉬태그 검색 및 선팔 작업을 시작합니다.')\n",
    "print(\"-------------------------------------------------------------------------\")\n",
    "for hash_tag in hash_tagss:\n",
    "    print('\"' + hash_tag + '\"' + \" 선팔 작업을 시작합니다\")\n",
    "    driver.get(\"https://www.instagram.com/explore/tags/\" + quote(hash_tag))\n",
    "    time.sleep(1.2 + random.random() * 1.2)\n",
    "    \n",
    "    how_many_people = how_many_people / 12\n",
    "\n",
    "    element=driver.find_element_by_tag_name('html')\n",
    "    for t in range(30*int(how_many_people)):\n",
    "        element.send_keys(Keys.ARROW_DOWN)\n",
    "    for t in range(30*int(how_many_people)):\n",
    "        element.send_keys(Keys.ARROW_UP)    \n",
    "        \n",
    "    # 게시글 링크와 계정 링크를 배열로 저장\n",
    "    # how_many_people만큼 해서 일단 수집\n",
    "    post_urls = driver.find_elements_by_css_selector('div.v1Nh3.kIKUG._bz0w > a')\n",
    "    post_url = [i.get_attribute('href') for i in post_urls ]\n",
    "    print(len(post_url))\n",
    "    \n",
    "    for i in range(len(post_url)):\n",
    "        time.sleep(1.2 + random.random() * 1.2)        \n",
    "        driver.get(post_url[i])\n",
    "        try:\n",
    "            driver.find_elements_by_css_selector('h2.BrX75 > a.FPmhX')[0].click()\n",
    "        except:\n",
    "            driver.get(basic_url)\n",
    "            time.sleep(1.2)\n",
    "            driver.get(post_url[i])\n",
    "            driver.find_elements_by_css_selector('h2.BrX75 > a.FPmhX')[0].click()\n",
    "        # follower\n",
    "        follower_temp = find_follower_followoo(post_url[i], 'span.g47SY.lOXF2', 1)\n",
    "        if is_num(follower_temp[-1])==1:\n",
    "            follower_split = follower_temp.split(',')\n",
    "            follower_str = \"\"\n",
    "            for j in range(len(follower_split)):\n",
    "                follower_str = follower_str+follower_split[j]\n",
    "            follower = int(follower_str)\n",
    "        elif follower_temp[-1] == '천':\n",
    "            follower_temp_temp = follower_temp[:-1]\n",
    "            follower_split = follower_temp_temp.split(',')\n",
    "            follower_str = \"\"\n",
    "            for j in range(len(follower_split)):\n",
    "                follower_str = follower_str+follower_split[j]\n",
    "            follower = int(follower_str)            \n",
    "            follower = follower * 1000\n",
    "        else:\n",
    "            continue\n",
    "            \n",
    "        # followoo\n",
    "        follower_temp = find_follower_followoo(post_url[i], 'span.g47SY.lOXF2', 2)\n",
    "        if is_num(followoo_temp[-1])==1:\n",
    "            followoo_split = followoo_temp.split(',')\n",
    "            followoo_str = \"\"\n",
    "            for j in range(len(followoo_split)):\n",
    "                followoo_str = followoo_str+followoo_split[j]\n",
    "            followoo = int(followoo_str)\n",
    "        elif followoo_temp[-1] == '천':\n",
    "            followoo_temp_temp = followoo_temp[:-1]\n",
    "            followoo_split = followoo_temp_temp.split(',')\n",
    "            followoo_str = \"\"\n",
    "            for j in range(len(followoo_split)):\n",
    "                followoo_str = followoo_str+followoo_split[j]\n",
    "            followoo = int(followoo_str)\n",
    "        else:\n",
    "            continue\n",
    "            \n",
    "        print(follower+\", \"+followoo)\n",
    "        \n",
    "        if (follower*3)/10 > followoo:\n",
    "            continue\n",
    "        else:            \n",
    "            driver.get(post_url[i])\n",
    "            time.sleep(1.2 + random.random() * 1.2)\n",
    "            try:\n",
    "                check_follow = soup.select('div.bY2yH > button.oW_lN._0mzm-.sqdOP.yWX7d')[0].get_text()\n",
    "            except:\n",
    "                driver.get(basic_url)\n",
    "                time.sleep(1.2)\n",
    "                driver.get(post_url[i])\n",
    "                check_follow = soup.select('div.bY2yH > button.oW_lN._0mzm-.sqdOP.yWX7d')[0].get_text()\n",
    "                \n",
    "            if check_follow == '팔로잉':\n",
    "                print('이미 팔로우 중입니다.')\n",
    "                continue\n",
    "            else:\n",
    "                driver.find_element_by_css_selector('button.oW_lN._0mzm-.sqdOP.yWX7d').click()\n",
    "                print('팔로우하였습니다.')\n",
    "            try:\n",
    "                driver.find_elements_by_css_selector('span.glyphsSpriteHeart__outline__24__grey_9')[0].click()\n",
    "            except:\n",
    "                print('이미 좋아요하였습니다.')\n",
    "                continue\n",
    "            try:\n",
    "                driver.find_element_by_css_selector('span.glyphsSpriteComment__outline__24__grey_9').click()\n",
    "                driver.find_element_by_css_selector('textarea').send_keys(loop_comment)\n",
    "                driver.find_element_by_css_selector('form.X7cDz > button._0mzm-.sqdOP.yWX7d').click()\n",
    "            except:\n",
    "                print('댓글기능이 잠겨있습니다.')\n",
    "                continue\n",
    "\n",
    "    print(hash_tag + \" 선팔 작업을 종료합니다\")\n",
    "    print(\"-------------------------------------------------------------------------\")\n",
    "print(\"해쉬태그 선팔 작업을 종료합니다.\")"
   ]
  },
  {
   "cell_type": "code",
   "execution_count": null,
   "metadata": {
    "collapsed": true
   },
   "outputs": [],
   "source": [
    "def find_follower_followoo(post_url, css, i):\n",
    "    driver.get(post_url)\n",
    "    driver.find_elements_by_css_selector('h2.BrX75 > a.FPmhX')[0].click()\n",
    "    soup2 = bs(driver.page_source, 'html.parser')            \n",
    "    driver.refresh()\n",
    "    follower_temp = soup2.select(css)[i].get_text()\n",
    "    print(follower_temp)\n",
    "    return follower_temp"
   ]
  },
  {
   "cell_type": "code",
   "execution_count": null,
   "metadata": {},
   "outputs": [],
   "source": [
    "soup2 = bs(driver.page_source, 'html.parser')            \n",
    "follower_temp = soup2.select(css)[i].get_text()\n",
    "print(follower_temp)"
   ]
  },
  {
   "cell_type": "code",
   "execution_count": null,
   "metadata": {
    "collapsed": true
   },
   "outputs": [],
   "source": [
    "# 안녕하세여! 선팔하구갈게여!! 맞팔부탁드려여>_< 헤헿"
   ]
  }
 ],
 "metadata": {
  "kernelspec": {
   "display_name": "Python 3",
   "language": "python",
   "name": "python3"
  },
  "language_info": {
   "codemirror_mode": {
    "name": "ipython",
    "version": 3
   },
   "file_extension": ".py",
   "mimetype": "text/x-python",
   "name": "python",
   "nbconvert_exporter": "python",
   "pygments_lexer": "ipython3",
   "version": "3.6.1"
  }
 },
 "nbformat": 4,
 "nbformat_minor": 2
}
