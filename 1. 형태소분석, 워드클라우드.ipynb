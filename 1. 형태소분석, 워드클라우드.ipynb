{
 "cells": [
  {
   "cell_type": "markdown",
   "metadata": {
    "collapsed": true
   },
   "source": [
    "### 텍스트파일에서 명사 추출, 랭킹하는 코드"
   ]
  },
  {
   "cell_type": "code",
   "execution_count": null,
   "metadata": {},
   "outputs": [],
   "source": [
    "import nltk\n",
    "from konlpy.tag import Twitter  ## konlpy.tag 형태소 분석기를 사용합니다.\n",
    "tw=Twitter()                     ## 이를 tw 변수에 할당합니다.\n",
    "text= open('텍스트명.txt').read()  ## 형태소 분석을 하고 싶은 데이터.txt를 jpynd 파일과 같은 디렉토리에 옮긴 뒤,\n",
    "                                               ## 텍스트를 열어서 text라는 변수에 저장합니다.\n",
    "\n",
    "# 제외하고 싶은 키워드가 있는 경우\n",
    "## stop_words = ['수정2 빼고싶은 단어1', '수정2 빼고싶은 단어2']\n",
    "## 명사의 경우. ko_nouns = [word for word in ko_nouns if word not in stop_words]\n",
    "## 동사의 경우. ko_verbs = [word for word in ko_verbs if word not in stop_words]\n",
    "\n",
    "# 명사 추출\n",
    "## sentences : 문장\n",
    "## nouns : 명사\n",
    "## pos : 형태소\n",
    "\n",
    "ko_nouns = tw.nouns(text)\n",
    "ko_noun = nltk.Text(ko_nouns) ## text에서 추출한 nouns 변수의 빈도수를 수치화하는 코드입니다.\n",
    "data = ko_noun.vocab().most_common(500) ## 상위 몇 개의 명사를 추출할지 정하는 코드입니다. 저희는 상위 500개 데이터를 추출하였습니다.\n",
    "data = dict(data)                          ## 각각의 랭킹된 명사를 집합으로 만들었습니다.\n",
    "                                           ## 하단의 워드클라우드를 위한 작업입니다.\n",
    "print(data)                                ## 이를 출력하여 사용하였습니다."
   ]
  },
  {
   "cell_type": "markdown",
   "metadata": {},
   "source": [
    "### 텍스트 명사화 및 빈도수 측정, 워드클라우드 준비"
   ]
  },
  {
   "cell_type": "code",
   "execution_count": null,
   "metadata": {
    "collapsed": true
   },
   "outputs": [],
   "source": [
    "# 모듈 임포트\n",
    "import matplotlib.pyplot as plt\n",
    "import numpy as np\n",
    "from PIL import Image\n",
    "from wordcloud import WordCloud\n",
    "%matplotlib inline"
   ]
  },
  {
   "cell_type": "code",
   "execution_count": null,
   "metadata": {},
   "outputs": [],
   "source": [
    "# 디자인 이미지 파일 로드\n",
    "mask_image = np.array(Image.open('워드클라우드모양.png'))\n",
    "\n",
    "# 워드클라우드 그림 그리기\n",
    "wordcolud_3 = WordCloud(font_path='C:/Windows/Fonts/malgun.ttf',\n",
    "                        background_color='white',\n",
    "                        max_words=3000,\n",
    "                        mask=mask_image, \n",
    "                        max_font_size=50,\n",
    "                        min_font_size=1,\n",
    "                        relative_scaling = 0.5,\n",
    "                        random_state=42)\n",
    "\n",
    "# 영어 데이터는 .generate(data)로 하면 한 번에 해결 되지만 한글은 안됨\n",
    "# 그래서 위에서 자연어 처리한 결과 값을 .generate_fro_frequencies(data) 로 \n",
    "wordcolud_3.generate_from_frequencies(data)\n",
    "\n",
    "# from wordcloud import ImageColorGenerator\n",
    "# image_colors = ImageColorGenerator(mask_image)"
   ]
  },
  {
   "cell_type": "code",
   "execution_count": null,
   "metadata": {},
   "outputs": [],
   "source": [
    "# 원본 사진 색 안살려서\n",
    "color_select=int(input(\"default color : 1, inmage's color : 2\"))\n",
    "\n",
    "if color_select==1:\n",
    "    plt.figure(figsize=(20,20))\n",
    "    plt.imshow(wordcolud_3)\n",
    "\n",
    "elif color_select==2:\n",
    "    from wordcloud import ImageColorGenerator\n",
    "    image_colors = ImageColorGenerator(mask_image)\n",
    "    plt.figure(figsize=(10,10))\n",
    "    plt.imshow(wordcolud_3.recolor(color_func=image_colors))\n",
    "    plt.axis('off')\n",
    "    \n",
    "else :\n",
    "    print(\"error\")"
   ]
  }
 ],
 "metadata": {
  "kernelspec": {
   "display_name": "Python 3",
   "language": "python",
   "name": "python3"
  },
  "language_info": {
   "codemirror_mode": {
    "name": "ipython",
    "version": 3
   },
   "file_extension": ".py",
   "mimetype": "text/x-python",
   "name": "python",
   "nbconvert_exporter": "python",
   "pygments_lexer": "ipython3",
   "version": "3.6.1"
  }
 },
 "nbformat": 4,
 "nbformat_minor": 2
}
