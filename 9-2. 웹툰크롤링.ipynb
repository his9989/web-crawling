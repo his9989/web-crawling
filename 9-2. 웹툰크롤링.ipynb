{
 "cells": [
  {
   "cell_type": "markdown",
   "metadata": {},
   "source": [
    "# 간단한 요청"
   ]
  },
  {
   "cell_type": "code",
   "execution_count": 1,
   "metadata": {
    "collapsed": true
   },
   "outputs": [],
   "source": [
    "import requests"
   ]
  },
  {
   "cell_type": "code",
   "execution_count": null,
   "metadata": {
    "collapsed": true
   },
   "outputs": [],
   "source": []
  },
  {
   "cell_type": "code",
   "execution_count": null,
   "metadata": {
    "collapsed": true
   },
   "outputs": [],
   "source": []
  },
  {
   "cell_type": "code",
   "execution_count": null,
   "metadata": {
    "collapsed": true
   },
   "outputs": [],
   "source": []
  },
  {
   "cell_type": "code",
   "execution_count": null,
   "metadata": {
    "collapsed": true
   },
   "outputs": [],
   "source": []
  },
  {
   "cell_type": "code",
   "execution_count": null,
   "metadata": {
    "collapsed": true
   },
   "outputs": [],
   "source": []
  },
  {
   "cell_type": "code",
   "execution_count": null,
   "metadata": {
    "collapsed": true
   },
   "outputs": [],
   "source": [
    "response = requests.get(\"http://post.naver.com/viewer/postView.nhn?volumeNo=11795992&memberNo=29931747&mainMenu=HEALTH\")"
   ]
  },
  {
   "cell_type": "code",
   "execution_count": null,
   "metadata": {
    "collapsed": true
   },
   "outputs": [],
   "source": [
    "response = requests.get(\"<h3 class=\"font1 tts_head\" id=\"articleTitle\">北 평창올림픽 참가 사실상 확정…軍문제로 논의 확대(종합)</h3>\")"
   ]
  },
  {
   "cell_type": "code",
   "execution_count": null,
   "metadata": {
    "collapsed": true
   },
   "outputs": [],
   "source": [
    "html = response.text"
   ]
  },
  {
   "cell_type": "code",
   "execution_count": null,
   "metadata": {
    "collapsed": true
   },
   "outputs": [],
   "source": [
    "print(html)"
   ]
  },
  {
   "cell_type": "code",
   "execution_count": null,
   "metadata": {
    "collapsed": true
   },
   "outputs": [],
   "source": [
    "import requests # pip install requests\n",
    "\n",
    "# GET 요청\n",
    "response = requests.get('https://gurneykim.github.io/ex_ipython/')\n",
    "\"\"\"\n",
    "requests.get('https://gurneykim.github.io/ex_ipython/') \n",
    " -> 지정한 주소 서버에 get 요청을 했다.\n",
    " \n",
    "response = requests.get('https://gurneykim.github.io/ex_ipython/')\n",
    "-> 지정한 주소의 서버가 get 요청을 받은 후 응답했다.\n",
    "응답 패킷을 response 변수에 넣었다.\n",
    "\"\"\"\n",
    "\n",
    "# response 변수에 들어있는 응답 패킷 중 html 소스확인 .text\n",
    "html = response.text\n",
    "\n",
    "# https://gurneykim.github.io/ex_ipython/ - 페이지 소스보기 의 html 파일과 똑같다.\n",
    "# 개발자 도구의 html 파일은 변화하는 소스까지 있다."
   ]
  },
  {
   "cell_type": "code",
   "execution_count": null,
   "metadata": {
    "collapsed": true
   },
   "outputs": [],
   "source": [
    "print(html)"
   ]
  },
  {
   "cell_type": "markdown",
   "metadata": {},
   "source": [
    "요청 패킷 예  \n",
    "\n",
    "GET / ex_ipython/ HTTP/1.1   \n",
    "Host: gurneykim.github.io/\n",
    "Connection: keep-alive   \n",
    "Accept: */*   \n",
    "User-Agent: python-requests/2.14.2   \n",
    "Accept-Encoding: gzip, deflate   \n",
    "(빈줄)  \n",
    "(Body 없음)  \n",
    "\n",
    "\n",
    "key : values 형식으로 자료를 준다."
   ]
  },
  {
   "cell_type": "code",
   "execution_count": null,
   "metadata": {
    "collapsed": true
   },
   "outputs": [],
   "source": [
    "%reset"
   ]
  },
  {
   "cell_type": "markdown",
   "metadata": {},
   "source": [
    "# 웹툰 크롤링"
   ]
  },
  {
   "cell_type": "code",
   "execution_count": 2,
   "metadata": {
    "collapsed": true
   },
   "outputs": [],
   "source": [
    "# requests 패키지 로드\n",
    "import requests\n",
    "import os"
   ]
  },
  {
   "cell_type": "code",
   "execution_count": null,
   "metadata": {
    "collapsed": true
   },
   "outputs": [],
   "source": [
    "image_urls =[]\n",
    "\n",
    "for i in range(1,41):\n",
    "    image_urls.append(\"http://imgcomic.naver.net/webtoon/24965/526/20180110120735_4aaffbed6afd7563f1e770710f24907c_IMAG01_{}.jpg\"\n",
    "                      .format(i))\n",
    "    \n",
    "for image_url in image_urls:\n",
    "    headers = {\n",
    "        'Referer' : \"http://comic.naver.com/webtoon/list.nhn?titleId=20853&weekday=tue\"}\n",
    "#    response = requests.get(image_url)\n",
    "\n",
    "    response = requests.get(image_url,headers=headers)\n",
    "    \n",
    "    image_data = response.content \n",
    "    #.content Raw data, byte 타입 가져오기 / .text : Raw Data에 대해 서버 응답의 content-type 인코딩으로 디코딩을을 시도한 유니코드 문자열\n",
    "    filename = os.path.basename(image_url)\n",
    "    with open(filename, 'wb') as f:\n",
    "        print('writing to {} ({} bytes)'.format(filename, len(image_data)))\n",
    "        f.write(image_data)"
   ]
  },
  {
   "cell_type": "markdown",
   "metadata": {},
   "source": [
    "# 네이버 웹툰"
   ]
  },
  {
   "cell_type": "code",
   "execution_count": null,
   "metadata": {
    "collapsed": true
   },
   "outputs": [],
   "source": [
    "import os\n",
    "import requests\n",
    "# URL 소스 : http://comic.naver.com/webtoon/detail.nhn?titleId=119874&no=1015&weekday=tue\n",
    "# - 덴마. 3-12화 1. 다이크(12)\n",
    "\n",
    "image_urls = [\n",
    " 'http://imgcomic.naver.net/webtoon/119874/1015/20170528204207_6e9df8e618b97520233bbb35e7d4eaaf_IMAG01_1.jpg',\n",
    " 'http://imgcomic.naver.net/webtoon/119874/1015/20170528204207_6e9df8e618b97520233bbb35e7d4eaaf_IMAG01_2.jpg',\n",
    " 'http://imgcomic.naver.net/webtoon/119874/1015/2017052820ㅈ4207_6e9df8e618b97520233bbb35e7d4eaaf_IMAG01_3.jpg',\n",
    "]\n",
    "\n",
    "for image_url in image_urls:\n",
    "\"\"\"    headers = {\n",
    "        'Referer' : \"http://comic.naver.com/webtoon/detail.nhn?titleId=119874&no=1015&weekday=tue\"\n",
    "    }\n",
    "\"\"\"\n",
    "    response = requests.get(image_url)\n",
    "#    response = requests.get(image_url,headers=headers)\n",
    "    image_data = response.content \n",
    "    #.content Raw data, byte 타입 가져오기 / .text : Raw Data에 대해 서버 응답의 content-type 인코딩으로 디코딩을을 시도한 유니코드 문자열\n",
    "    filename = os.path.basename(image_url)\n",
    "    with open(filename, 'wb') as f:\n",
    "        print('writing to {} ({} bytes)'.format(filename, len(image_data)))\n",
    "        f.write(image_data)"
   ]
  },
  {
   "cell_type": "code",
   "execution_count": null,
   "metadata": {
    "collapsed": true
   },
   "outputs": [],
   "source": []
  }
 ],
 "metadata": {
  "kernelspec": {
   "display_name": "Python 3",
   "language": "python",
   "name": "python3"
  },
  "language_info": {
   "codemirror_mode": {
    "name": "ipython",
    "version": 3
   },
   "file_extension": ".py",
   "mimetype": "text/x-python",
   "name": "python",
   "nbconvert_exporter": "python",
   "pygments_lexer": "ipython3",
   "version": "3.6.1"
  }
 },
 "nbformat": 4,
 "nbformat_minor": 2
}
